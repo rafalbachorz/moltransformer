{
 "cells": [
  {
   "cell_type": "code",
   "execution_count": 44,
   "metadata": {},
   "outputs": [],
   "source": [
    "import pandas as pd\n",
    "import numpy as np\n",
    "import json\n",
    "from sklearn.model_selection import train_test_split\n",
    "from sklearn.cluster import DBSCAN\n",
    "from sklearn.manifold import TSNE\n",
    "import seaborn as sns\n",
    "from functools import partial\n",
    "from hyperopt import STATUS_OK, Trials, fmin, hp, tpe, space_eval\n",
    "import data_transformers as dt\n",
    "import model_wrapper as mw\n",
    "from data_transformers import create_molecular_features, process_molecular_features\n",
    "from sklearn.metrics import r2_score, mean_squared_error, mean_absolute_error, ConfusionMatrixDisplay, precision_score, recall_score, roc_auc_score, average_precision_score, accuracy_score\n",
    "from auxiliary import plotScatterWithIdeal, get_logger\n",
    "from paths import DATA_DIR, PIPELINES_DIR, MODELS_DIR\n",
    "\n",
    "from enum import Enum\n",
    "class ColumnNames(Enum):\n",
    "    SMILES_COLUMN = \"canonical_smiles\"\n",
    "    TARGET_COLUMN = \"standard_value_mean\"\n",
    "\n",
    "pd.set_option(\"display.max_rows\", 500)\n",
    "l = get_logger(logger_name=\"logger\")\n",
    "USE_CASE = \"gyrase\""
   ]
  },
  {
   "cell_type": "code",
   "execution_count": 2,
   "metadata": {},
   "outputs": [
    {
     "data": {
      "text/html": [
       "<div>\n",
       "<style scoped>\n",
       "    .dataframe tbody tr th:only-of-type {\n",
       "        vertical-align: middle;\n",
       "    }\n",
       "\n",
       "    .dataframe tbody tr th {\n",
       "        vertical-align: top;\n",
       "    }\n",
       "\n",
       "    .dataframe thead th {\n",
       "        text-align: right;\n",
       "    }\n",
       "</style>\n",
       "<table border=\"1\" class=\"dataframe\">\n",
       "  <thead>\n",
       "    <tr style=\"text-align: right;\">\n",
       "      <th></th>\n",
       "      <th>standard_value_min</th>\n",
       "      <th>standard_value_max</th>\n",
       "      <th>standard_value_get_all_levels</th>\n",
       "      <th>standard_value_get_mean</th>\n",
       "      <th>db_id</th>\n",
       "      <th>canonical_smiles</th>\n",
       "      <th>source</th>\n",
       "      <th>activity</th>\n",
       "    </tr>\n",
       "  </thead>\n",
       "  <tbody>\n",
       "    <tr>\n",
       "      <th>0</th>\n",
       "      <td>28000.0</td>\n",
       "      <td>28000.0</td>\n",
       "      <td>[28000.0]</td>\n",
       "      <td>2.800000e+04</td>\n",
       "      <td>CHEMBL4</td>\n",
       "      <td>CC1COc2c(N3CCN(C)CC3)c(F)cc3c(=O)c(C(=O)O)cn1c23</td>\n",
       "      <td>chembl</td>\n",
       "      <td>inactive</td>\n",
       "    </tr>\n",
       "    <tr>\n",
       "      <th>1</th>\n",
       "      <td>4750000.0</td>\n",
       "      <td>4750000.0</td>\n",
       "      <td>[4750000.0]</td>\n",
       "      <td>4.750000e+06</td>\n",
       "      <td>CHEMBL5</td>\n",
       "      <td>CCn1cc(C(=O)O)c(=O)c2ccc(C)nc21</td>\n",
       "      <td>chembl</td>\n",
       "      <td>inactive</td>\n",
       "    </tr>\n",
       "    <tr>\n",
       "      <th>2</th>\n",
       "      <td>10600.0</td>\n",
       "      <td>37725.5</td>\n",
       "      <td>[10600.0, 37725.5]</td>\n",
       "      <td>2.416275e+04</td>\n",
       "      <td>CHEMBL8</td>\n",
       "      <td>O=C(O)c1cn(C2CC2)c2cc(N3CCNCC3)c(F)cc2c1=O</td>\n",
       "      <td>chembl</td>\n",
       "      <td>inactive</td>\n",
       "    </tr>\n",
       "    <tr>\n",
       "      <th>3</th>\n",
       "      <td>6000.0</td>\n",
       "      <td>12500.0</td>\n",
       "      <td>[6000.0, 8100.0, 10000.0, 11200.0, 12500.0]</td>\n",
       "      <td>1.043333e+04</td>\n",
       "      <td>CHEMBL32</td>\n",
       "      <td>COc1c(N2C[C@@H]3CCCN[C@@H]3C2)c(F)cc2c(=O)c(C(...</td>\n",
       "      <td>chembl</td>\n",
       "      <td>active</td>\n",
       "    </tr>\n",
       "    <tr>\n",
       "      <th>4</th>\n",
       "      <td>50000.0</td>\n",
       "      <td>50000.0</td>\n",
       "      <td>[50000.0]</td>\n",
       "      <td>5.000000e+04</td>\n",
       "      <td>CHEMBL64</td>\n",
       "      <td>NNC(=O)c1ccncc1</td>\n",
       "      <td>chembl</td>\n",
       "      <td>inactive</td>\n",
       "    </tr>\n",
       "  </tbody>\n",
       "</table>\n",
       "</div>"
      ],
      "text/plain": [
       "   standard_value_min  standard_value_max  \\\n",
       "0             28000.0             28000.0   \n",
       "1           4750000.0           4750000.0   \n",
       "2             10600.0             37725.5   \n",
       "3              6000.0             12500.0   \n",
       "4             50000.0             50000.0   \n",
       "\n",
       "                 standard_value_get_all_levels  standard_value_get_mean  \\\n",
       "0                                    [28000.0]             2.800000e+04   \n",
       "1                                  [4750000.0]             4.750000e+06   \n",
       "2                           [10600.0, 37725.5]             2.416275e+04   \n",
       "3  [6000.0, 8100.0, 10000.0, 11200.0, 12500.0]             1.043333e+04   \n",
       "4                                    [50000.0]             5.000000e+04   \n",
       "\n",
       "      db_id                                   canonical_smiles  source  \\\n",
       "0   CHEMBL4   CC1COc2c(N3CCN(C)CC3)c(F)cc3c(=O)c(C(=O)O)cn1c23  chembl   \n",
       "1   CHEMBL5                    CCn1cc(C(=O)O)c(=O)c2ccc(C)nc21  chembl   \n",
       "2   CHEMBL8         O=C(O)c1cn(C2CC2)c2cc(N3CCNCC3)c(F)cc2c1=O  chembl   \n",
       "3  CHEMBL32  COc1c(N2C[C@@H]3CCCN[C@@H]3C2)c(F)cc2c(=O)c(C(...  chembl   \n",
       "4  CHEMBL64                                    NNC(=O)c1ccncc1  chembl   \n",
       "\n",
       "   activity  \n",
       "0  inactive  \n",
       "1  inactive  \n",
       "2  inactive  \n",
       "3    active  \n",
       "4  inactive  "
      ]
     },
     "execution_count": 2,
     "metadata": {},
     "output_type": "execute_result"
    }
   ],
   "source": [
    "df = pd.read_parquet(DATA_DIR/USE_CASE/\"final_aggregates_chembl_binding_pdb.parquet\")\n",
    "df.head()"
   ]
  },
  {
   "cell_type": "markdown",
   "metadata": {},
   "source": [
    "* an additional aggregation related to duplicated entry - the explanations are in the notebook related to the data retrieval (data_retrieval_chembl3.0.ipynb), the other project (DNA_GYRAZE) "
   ]
  },
  {
   "cell_type": "code",
   "execution_count": 3,
   "metadata": {},
   "outputs": [],
   "source": [
    "def combine_lists(x):\n",
    "    y = x.dropna()\n",
    "    if y.empty:\n",
    "        return np.nan\n",
    "    else:\n",
    "        a = [item for item in x]\n",
    "        ret_val = []\n",
    "        for item in a: ret_val.extend(item)\n",
    "        return ret_val"
   ]
  },
  {
   "cell_type": "code",
   "execution_count": 4,
   "metadata": {},
   "outputs": [],
   "source": [
    "df = df.groupby(\"db_id\").agg({\"standard_value_min\": min, \"standard_value_max\": max, \"standard_value_get_all_levels\": combine_lists, \"db_id\": min,\n",
    "\"canonical_smiles\": min, \"source\": min})"
   ]
  },
  {
   "cell_type": "code",
   "execution_count": 5,
   "metadata": {},
   "outputs": [
    {
     "data": {
      "text/html": [
       "<div>\n",
       "<style scoped>\n",
       "    .dataframe tbody tr th:only-of-type {\n",
       "        vertical-align: middle;\n",
       "    }\n",
       "\n",
       "    .dataframe tbody tr th {\n",
       "        vertical-align: top;\n",
       "    }\n",
       "\n",
       "    .dataframe thead th {\n",
       "        text-align: right;\n",
       "    }\n",
       "</style>\n",
       "<table border=\"1\" class=\"dataframe\">\n",
       "  <thead>\n",
       "    <tr style=\"text-align: right;\">\n",
       "      <th></th>\n",
       "      <th>standard_value_min</th>\n",
       "      <th>standard_value_max</th>\n",
       "      <th>standard_value_get_all_levels</th>\n",
       "      <th>db_id</th>\n",
       "      <th>canonical_smiles</th>\n",
       "      <th>source</th>\n",
       "      <th>standard_value_mean</th>\n",
       "    </tr>\n",
       "    <tr>\n",
       "      <th>db_id</th>\n",
       "      <th></th>\n",
       "      <th></th>\n",
       "      <th></th>\n",
       "      <th></th>\n",
       "      <th></th>\n",
       "      <th></th>\n",
       "      <th></th>\n",
       "    </tr>\n",
       "  </thead>\n",
       "  <tbody>\n",
       "    <tr>\n",
       "      <th>50117914</th>\n",
       "      <td>5.0</td>\n",
       "      <td>9400.0</td>\n",
       "      <td>[5.0, 7990.0, 9400.0]</td>\n",
       "      <td>50117914</td>\n",
       "      <td>COc1c(N2CCNC(C)C2)c(F)cc2c1n(cc(C(O)=O)c2=O)C1CC1</td>\n",
       "      <td>bindingpdb</td>\n",
       "      <td>5798.333333</td>\n",
       "    </tr>\n",
       "    <tr>\n",
       "      <th>50131428</th>\n",
       "      <td>9200.0</td>\n",
       "      <td>9200.0</td>\n",
       "      <td>[9200.0]</td>\n",
       "      <td>50131428</td>\n",
       "      <td>COc1c(N2CC3CCCNC3C2)c(F)cc2C(=O)C(CN(C3CC3)c12...</td>\n",
       "      <td>bindingpdb</td>\n",
       "      <td>9200.000000</td>\n",
       "    </tr>\n",
       "    <tr>\n",
       "      <th>50131445</th>\n",
       "      <td>52000.0</td>\n",
       "      <td>52000.0</td>\n",
       "      <td>[52000.0]</td>\n",
       "      <td>50131445</td>\n",
       "      <td>COC(=O)c1cn2[C@@H](C)COc3c(N4CCN(C)CC4)c(F)cc(...</td>\n",
       "      <td>bindingpdb</td>\n",
       "      <td>52000.000000</td>\n",
       "    </tr>\n",
       "    <tr>\n",
       "      <th>50330327</th>\n",
       "      <td>2900.0</td>\n",
       "      <td>2900.0</td>\n",
       "      <td>[2900.0]</td>\n",
       "      <td>50330327</td>\n",
       "      <td>COc1c(N2CC[C@H](C2)C(C)(C)N)c(F)cc2c1n(C1CC1)c...</td>\n",
       "      <td>bindingpdb</td>\n",
       "      <td>2900.000000</td>\n",
       "    </tr>\n",
       "    <tr>\n",
       "      <th>50490565</th>\n",
       "      <td>48400.0</td>\n",
       "      <td>48400.0</td>\n",
       "      <td>[48400.0]</td>\n",
       "      <td>50490565</td>\n",
       "      <td>CCOC(=O)C1CN(CCN1)c1c(F)cc2c(c1OC)n(cc(C(O)=O)...</td>\n",
       "      <td>bindingpdb</td>\n",
       "      <td>48400.000000</td>\n",
       "    </tr>\n",
       "  </tbody>\n",
       "</table>\n",
       "</div>"
      ],
      "text/plain": [
       "          standard_value_min  standard_value_max  \\\n",
       "db_id                                              \n",
       "50117914                 5.0              9400.0   \n",
       "50131428              9200.0              9200.0   \n",
       "50131445             52000.0             52000.0   \n",
       "50330327              2900.0              2900.0   \n",
       "50490565             48400.0             48400.0   \n",
       "\n",
       "         standard_value_get_all_levels     db_id  \\\n",
       "db_id                                              \n",
       "50117914         [5.0, 7990.0, 9400.0]  50117914   \n",
       "50131428                      [9200.0]  50131428   \n",
       "50131445                     [52000.0]  50131445   \n",
       "50330327                      [2900.0]  50330327   \n",
       "50490565                     [48400.0]  50490565   \n",
       "\n",
       "                                           canonical_smiles      source  \\\n",
       "db_id                                                                     \n",
       "50117914  COc1c(N2CCNC(C)C2)c(F)cc2c1n(cc(C(O)=O)c2=O)C1CC1  bindingpdb   \n",
       "50131428  COc1c(N2CC3CCCNC3C2)c(F)cc2C(=O)C(CN(C3CC3)c12...  bindingpdb   \n",
       "50131445  COC(=O)c1cn2[C@@H](C)COc3c(N4CCN(C)CC4)c(F)cc(...  bindingpdb   \n",
       "50330327  COc1c(N2CC[C@H](C2)C(C)(C)N)c(F)cc2c1n(C1CC1)c...  bindingpdb   \n",
       "50490565  CCOC(=O)C1CN(CCN1)c1c(F)cc2c(c1OC)n(cc(C(O)=O)...  bindingpdb   \n",
       "\n",
       "          standard_value_mean  \n",
       "db_id                          \n",
       "50117914          5798.333333  \n",
       "50131428          9200.000000  \n",
       "50131445         52000.000000  \n",
       "50330327          2900.000000  \n",
       "50490565         48400.000000  "
      ]
     },
     "execution_count": 5,
     "metadata": {},
     "output_type": "execute_result"
    }
   ],
   "source": [
    "df[\"standard_value_mean\"] = df[\"standard_value_get_all_levels\"].apply(lambda x: np.array(x).mean())\n",
    "df[\"standard_value_mean\"] = df[\"standard_value_mean\"].astype(float)\n",
    "df.head()"
   ]
  },
  {
   "cell_type": "code",
   "execution_count": 6,
   "metadata": {},
   "outputs": [
    {
     "data": {
      "text/html": [
       "<div>\n",
       "<style scoped>\n",
       "    .dataframe tbody tr th:only-of-type {\n",
       "        vertical-align: middle;\n",
       "    }\n",
       "\n",
       "    .dataframe tbody tr th {\n",
       "        vertical-align: top;\n",
       "    }\n",
       "\n",
       "    .dataframe thead th {\n",
       "        text-align: right;\n",
       "    }\n",
       "</style>\n",
       "<table border=\"1\" class=\"dataframe\">\n",
       "  <thead>\n",
       "    <tr style=\"text-align: right;\">\n",
       "      <th></th>\n",
       "      <th>standard_value_min</th>\n",
       "      <th>standard_value_max</th>\n",
       "      <th>standard_value_get_all_levels</th>\n",
       "      <th>db_id</th>\n",
       "      <th>canonical_smiles</th>\n",
       "      <th>source</th>\n",
       "      <th>standard_value_mean</th>\n",
       "    </tr>\n",
       "    <tr>\n",
       "      <th>db_id</th>\n",
       "      <th></th>\n",
       "      <th></th>\n",
       "      <th></th>\n",
       "      <th></th>\n",
       "      <th></th>\n",
       "      <th></th>\n",
       "      <th></th>\n",
       "    </tr>\n",
       "  </thead>\n",
       "  <tbody>\n",
       "  </tbody>\n",
       "</table>\n",
       "</div>"
      ],
      "text/plain": [
       "Empty DataFrame\n",
       "Columns: [standard_value_min, standard_value_max, standard_value_get_all_levels, db_id, canonical_smiles, source, standard_value_mean]\n",
       "Index: []"
      ]
     },
     "execution_count": 6,
     "metadata": {},
     "output_type": "execute_result"
    }
   ],
   "source": [
    "df[df[\"db_id\"].duplicated(keep=False)]"
   ]
  },
  {
   "cell_type": "markdown",
   "metadata": {},
   "source": [
    "# QED regression"
   ]
  },
  {
   "cell_type": "markdown",
   "metadata": {},
   "source": [
    "## Training"
   ]
  },
  {
   "cell_type": "code",
   "execution_count": 16,
   "metadata": {},
   "outputs": [
    {
     "name": "stderr",
     "output_type": "stream",
     "text": [
      "2022-07-31 08:36:52,320 - logger - INFO - Scaler constructor...\n"
     ]
    }
   ],
   "source": [
    "TRAINING_CONFIGURATION_FILE = \"QED_training_gyrase_regression.json\"\n",
    "MODEL_FILE = \"QED_gyrase_regressor.model\"\n",
    "with open(PIPELINES_DIR/TRAINING_CONFIGURATION_FILE, \"r\") as f:\n",
    "    training_conf = json.load(f)\n",
    "configuration_train = training_conf[\"training_aux_data\"]\n",
    "\n",
    "prediction_methodology = training_conf[\"prediction_methodology\"]\n",
    "prediction_type=training_conf[\"prediction_type\"]\n",
    "\n",
    "model_wrapper = mw.model_wrapper.M_XGBoost(prediction_type=prediction_type, pipeline_configuration=None)\n",
    "model_wrapper.Load(MODELS_DIR/MODEL_FILE)"
   ]
  },
  {
   "cell_type": "code",
   "execution_count": 17,
   "metadata": {},
   "outputs": [
    {
     "name": "stderr",
     "output_type": "stream",
     "text": [
      "2022-07-31 08:36:54,760 - logger - INFO - CreateFPS fit...\n",
      "2022-07-31 08:36:54,762 - logger - INFO - CreateFPS transform...\n",
      "100%|██████████| 318/318 [00:01<00:00, 218.71it/s]\n",
      "2022-07-31 08:36:57,067 - logger - INFO - Scaler fit...\n",
      "2022-07-31 08:36:57,076 - logger - INFO - CreateFPS fit...\n",
      "2022-07-31 08:36:57,077 - logger - INFO - CreateFPS transform...\n",
      "100%|██████████| 36/36 [00:00<00:00, 212.79it/s]\n",
      "2022-07-31 08:36:57,355 - logger - INFO - Scaler transform...\n",
      "2022-07-31 08:36:57,447 - logger - INFO - R2 score on hold-out/external: 0.455872707093285\n",
      "2022-07-31 08:36:57,448 - logger - INFO - MSE score on hold-out/external: 0.5449584444309475\n",
      "2022-07-31 08:36:57,449 - logger - INFO - MAE score on hold-out/external: 0.5581887985506779\n"
     ]
    },
    {
     "data": {
      "image/png": "[encoded data removed]",
      "text/plain": [
       "<Figure size 720x576 with 1 Axes>"
      ]
     },
     "metadata": {},
     "output_type": "display_data"
    }
   ],
   "source": [
    "smiles_codes_val = model_wrapper.Data[\"smiles_codes_val\"]\n",
    "smiles_codes_train = model_wrapper.Data[\"smiles_codes_train\"]\n",
    "model_wrapper.Pipeline.fit(X=smiles_codes_train, y=None)\n",
    "X_val = create_molecular_features(pipeline=model_wrapper.Pipeline, smiles_codes=smiles_codes_val)\n",
    "X_val = process_molecular_features(pipeline=model_wrapper.Pipeline, X=X_val)\n",
    "y_train_val_pred = model_wrapper.Predict(X_val)\n",
    "y_train_val = model_wrapper.Data[\"targets_val\"]\n",
    "\n",
    "plotScatterWithIdeal(y_train_val.values, y_train_val_pred.values, \"Actual vs. predicted plot on hold-out/external set\")\n",
    "l.info(\"R2 score on hold-out/external: %s\", r2_score(y_train_val, y_train_val_pred))\n",
    "l.info(\"MSE score on hold-out/external: %s\", mean_squared_error(y_train_val, y_train_val_pred))\n",
    "l.info(\"MAE score on hold-out/external: %s\", mean_absolute_error(y_train_val, y_train_val_pred))"
   ]
  },
  {
   "cell_type": "code",
   "execution_count": 18,
   "metadata": {},
   "outputs": [
    {
     "name": "stderr",
     "output_type": "stream",
     "text": [
      "2022-07-31 08:36:57,808 - logger - INFO - CreateFPS fit...\n",
      "2022-07-31 08:36:57,809 - logger - INFO - CreateFPS transform...\n",
      "100%|██████████| 318/318 [00:01<00:00, 220.22it/s]\n",
      "2022-07-31 08:37:00,122 - logger - INFO - Scaler fit...\n",
      "2022-07-31 08:37:00,133 - logger - INFO - CreateFPS fit...\n",
      "2022-07-31 08:37:00,134 - logger - INFO - CreateFPS transform...\n",
      "100%|██████████| 318/318 [00:01<00:00, 214.36it/s]\n",
      "2022-07-31 08:37:02,467 - logger - INFO - Scaler transform...\n",
      "2022-07-31 08:37:02,541 - logger - INFO - R2 score on training: 0.5351528310209906\n",
      "2022-07-31 08:37:02,543 - logger - INFO - MSE score on training: 0.2758275830911313\n",
      "2022-07-31 08:37:02,544 - logger - INFO - MAE score on training: 0.3919682752337298\n"
     ]
    },
    {
     "data": {
      "image/png": "[encoded data removed]",
      "text/plain": [
       "<Figure size 720x576 with 1 Axes>"
      ]
     },
     "metadata": {},
     "output_type": "display_data"
    }
   ],
   "source": [
    "smiles_codes_val = model_wrapper.Data[\"smiles_codes_val\"]\n",
    "smiles_codes_train = model_wrapper.Data[\"smiles_codes_train\"]\n",
    "model_wrapper.Pipeline.fit(X=smiles_codes_train, y=None)\n",
    "X_train = create_molecular_features(pipeline=model_wrapper.Pipeline, smiles_codes=smiles_codes_train)\n",
    "X_train = process_molecular_features(pipeline=model_wrapper.Pipeline, X=X_train)\n",
    "y_train_pred = model_wrapper.Predict(X_train)\n",
    "y_train = model_wrapper.Data[\"targets_train\"]\n",
    "plotScatterWithIdeal(y_train.values, y_train_pred.values, \"Actual vs. predicted plot on training set\")\n",
    "l.info(\"R2 score on training: %s\", r2_score(y_train, y_train_pred))\n",
    "l.info(\"MSE score on training: %s\", mean_squared_error(y_train, y_train_pred))\n",
    "l.info(\"MAE score on training: %s\", mean_absolute_error(y_train, y_train_pred))"
   ]
  },
  {
   "cell_type": "code",
   "execution_count": 34,
   "metadata": {},
   "outputs": [
    {
     "data": {
      "text/html": [
       "<style>#sk-container-id-1 {color: black;background-color: white;}#sk-container-id-1 pre{padding: 0;}#sk-container-id-1 div.sk-toggleable {background-color: white;}#sk-container-id-1 label.sk-toggleable__label {cursor: pointer;display: block;width: 100%;margin-bottom: 0;padding: 0.3em;box-sizing: border-box;text-align: center;}#sk-container-id-1 label.sk-toggleable__label-arrow:before {content: \"▸\";float: left;margin-right: 0.25em;color: #696969;}#sk-container-id-1 label.sk-toggleable__label-arrow:hover:before {color: black;}#sk-container-id-1 div.sk-estimator:hover label.sk-toggleable__label-arrow:before {color: black;}#sk-container-id-1 div.sk-toggleable__content {max-height: 0;max-width: 0;overflow: hidden;text-align: left;background-color: #f0f8ff;}#sk-container-id-1 div.sk-toggleable__content pre {margin: 0.2em;color: black;border-radius: 0.25em;background-color: #f0f8ff;}#sk-container-id-1 input.sk-toggleable__control:checked~div.sk-toggleable__content {max-height: 200px;max-width: 100%;overflow: auto;}#sk-container-id-1 input.sk-toggleable__control:checked~label.sk-toggleable__label-arrow:before {content: \"▾\";}#sk-container-id-1 div.sk-estimator input.sk-toggleable__control:checked~label.sk-toggleable__label {background-color: #d4ebff;}#sk-container-id-1 div.sk-label input.sk-toggleable__control:checked~label.sk-toggleable__label {background-color: #d4ebff;}#sk-container-id-1 input.sk-hidden--visually {border: 0;clip: rect(1px 1px 1px 1px);clip: rect(1px, 1px, 1px, 1px);height: 1px;margin: -1px;overflow: hidden;padding: 0;position: absolute;width: 1px;}#sk-container-id-1 div.sk-estimator {font-family: monospace;background-color: #f0f8ff;border: 1px dotted black;border-radius: 0.25em;box-sizing: border-box;margin-bottom: 0.5em;}#sk-container-id-1 div.sk-estimator:hover {background-color: #d4ebff;}#sk-container-id-1 div.sk-parallel-item::after {content: \"\";width: 100%;border-bottom: 1px solid gray;flex-grow: 1;}#sk-container-id-1 div.sk-label:hover label.sk-toggleable__label {background-color: #d4ebff;}#sk-container-id-1 div.sk-serial::before {content: \"\";position: absolute;border-left: 1px solid gray;box-sizing: border-box;top: 0;bottom: 0;left: 50%;z-index: 0;}#sk-container-id-1 div.sk-serial {display: flex;flex-direction: column;align-items: center;background-color: white;padding-right: 0.2em;padding-left: 0.2em;position: relative;}#sk-container-id-1 div.sk-item {position: relative;z-index: 1;}#sk-container-id-1 div.sk-parallel {display: flex;align-items: stretch;justify-content: center;background-color: white;position: relative;}#sk-container-id-1 div.sk-item::before, #sk-container-id-1 div.sk-parallel-item::before {content: \"\";position: absolute;border-left: 1px solid gray;box-sizing: border-box;top: 0;bottom: 0;left: 50%;z-index: -1;}#sk-container-id-1 div.sk-parallel-item {display: flex;flex-direction: column;z-index: 1;position: relative;background-color: white;}#sk-container-id-1 div.sk-parallel-item:first-child::after {align-self: flex-end;width: 50%;}#sk-container-id-1 div.sk-parallel-item:last-child::after {align-self: flex-start;width: 50%;}#sk-container-id-1 div.sk-parallel-item:only-child::after {width: 0;}#sk-container-id-1 div.sk-dashed-wrapped {border: 1px dashed gray;margin: 0 0.4em 0.5em 0.4em;box-sizing: border-box;padding-bottom: 0.4em;background-color: white;}#sk-container-id-1 div.sk-label label {font-family: monospace;font-weight: bold;display: inline-block;line-height: 1.2em;}#sk-container-id-1 div.sk-label-container {text-align: center;}#sk-container-id-1 div.sk-container {/* jupyter's `normalize.less` sets `[hidden] { display: none; }` but bootstrap.min.css set `[hidden] { display: none !important; }` so we also need the `!important` here to be able to override the default hidden behavior on the sphinx rendered scikit-learn.org. See: https://github.com/scikit-learn/scikit-learn/issues/21755 */display: inline-block !important;position: relative;}#sk-container-id-1 div.sk-text-repr-fallback {display: none;}</style><div id=\"sk-container-id-1\" class=\"sk-top-container\"><div class=\"sk-text-repr-fallback\"><pre>Pipeline(steps=[(&#x27;Molecular features&#x27;,\n",
       "                 TurnSmilesIntoFeatures(calculate_fps=False,\n",
       "                                        chosen_descriptors=[&lt;module &#x27;mordred.SLogP&#x27; from &#x27;/home/rafalb/miniconda3/envs/rorgammaqsar/lib/python3.8/site-packages/mordred/SLogP.py&#x27;&gt;,\n",
       "                                                            mordred.RingCount.RingCount(None, False, False, True, None),\n",
       "                                                            &lt;class &#x27;mordred.HydrogenBond.HBondAcceptor&#x27;&gt;,\n",
       "                                                            &lt;class &#x27;mordred.HydrogenBond.HBondD...\n",
       "                                                            mordred.Weight.Weight(True, False),\n",
       "                                                            mordred.TopoPSA.TopoPSA(False),\n",
       "                                                            &lt;module &#x27;mordred.Lipinski&#x27; from &#x27;/home/rafalb/miniconda3/envs/rorgammaqsar/lib/python3.8/site-packages/mordred/Lipinski.py&#x27;&gt;],\n",
       "                                        meta_descriptors=[&#x27;QED&#x27;],\n",
       "                                        opt_3d=None)),\n",
       "                (&#x27;Scaling&#x27;,\n",
       "                 DataScaling(scaler=StandardScaler(),\n",
       "                             scaling_features=[&#x27;SLogP&#x27;, &#x27;SMR&#x27;, &#x27;naRing&#x27;,\n",
       "                                               &#x27;nHBAcc&#x27;, &#x27;nHBDon&#x27;, &#x27;nRot&#x27;, &#x27;MW&#x27;,\n",
       "                                               &#x27;TopoPSA&#x27;, &#x27;QED&#x27;]))])</pre><b>In a Jupyter environment, please rerun this cell to show the HTML representation or trust the notebook. <br />On GitHub, the HTML representation is unable to render, please try loading this page with nbviewer.org.</b></div><div class=\"sk-container\" hidden><div class=\"sk-item sk-dashed-wrapped\"><div class=\"sk-label-container\"><div class=\"sk-label sk-toggleable\"><input class=\"sk-toggleable__control sk-hidden--visually\" id=\"sk-estimator-id-1\" type=\"checkbox\" ><label for=\"sk-estimator-id-1\" class=\"sk-toggleable__label sk-toggleable__label-arrow\">Pipeline</label><div class=\"sk-toggleable__content\"><pre>Pipeline(steps=[(&#x27;Molecular features&#x27;,\n",
       "                 TurnSmilesIntoFeatures(calculate_fps=False,\n",
       "                                        chosen_descriptors=[&lt;module &#x27;mordred.SLogP&#x27; from &#x27;/home/rafalb/miniconda3/envs/rorgammaqsar/lib/python3.8/site-packages/mordred/SLogP.py&#x27;&gt;,\n",
       "                                                            mordred.RingCount.RingCount(None, False, False, True, None),\n",
       "                                                            &lt;class &#x27;mordred.HydrogenBond.HBondAcceptor&#x27;&gt;,\n",
       "                                                            &lt;class &#x27;mordred.HydrogenBond.HBondD...\n",
       "                                                            mordred.Weight.Weight(True, False),\n",
       "                                                            mordred.TopoPSA.TopoPSA(False),\n",
       "                                                            &lt;module &#x27;mordred.Lipinski&#x27; from &#x27;/home/rafalb/miniconda3/envs/rorgammaqsar/lib/python3.8/site-packages/mordred/Lipinski.py&#x27;&gt;],\n",
       "                                        meta_descriptors=[&#x27;QED&#x27;],\n",
       "                                        opt_3d=None)),\n",
       "                (&#x27;Scaling&#x27;,\n",
       "                 DataScaling(scaler=StandardScaler(),\n",
       "                             scaling_features=[&#x27;SLogP&#x27;, &#x27;SMR&#x27;, &#x27;naRing&#x27;,\n",
       "                                               &#x27;nHBAcc&#x27;, &#x27;nHBDon&#x27;, &#x27;nRot&#x27;, &#x27;MW&#x27;,\n",
       "                                               &#x27;TopoPSA&#x27;, &#x27;QED&#x27;]))])</pre></div></div></div><div class=\"sk-serial\"><div class=\"sk-item\"><div class=\"sk-estimator sk-toggleable\"><input class=\"sk-toggleable__control sk-hidden--visually\" id=\"sk-estimator-id-2\" type=\"checkbox\" ><label for=\"sk-estimator-id-2\" class=\"sk-toggleable__label sk-toggleable__label-arrow\">TurnSmilesIntoFeatures</label><div class=\"sk-toggleable__content\"><pre>TurnSmilesIntoFeatures(calculate_fps=False,\n",
       "                       chosen_descriptors=[&lt;module &#x27;mordred.SLogP&#x27; from &#x27;/home/rafalb/miniconda3/envs/rorgammaqsar/lib/python3.8/site-packages/mordred/SLogP.py&#x27;&gt;,\n",
       "                                           mordred.RingCount.RingCount(None, False, False, True, None),\n",
       "                                           &lt;class &#x27;mordred.HydrogenBond.HBondAcceptor&#x27;&gt;,\n",
       "                                           &lt;class &#x27;mordred.HydrogenBond.HBondDonor&#x27;&gt;,\n",
       "                                           &lt;class &#x27;mordred.RotatableBond.RotatableBondsCount&#x27;&gt;,\n",
       "                                           mordred.Weight.Weight(True, False),\n",
       "                                           mordred.TopoPSA.TopoPSA(False),\n",
       "                                           &lt;module &#x27;mordred.Lipinski&#x27; from &#x27;/home/rafalb/miniconda3/envs/rorgammaqsar/lib/python3.8/site-packages/mordred/Lipinski.py&#x27;&gt;],\n",
       "                       meta_descriptors=[&#x27;QED&#x27;], opt_3d=None)</pre></div></div></div><div class=\"sk-item sk-dashed-wrapped\"><div class=\"sk-label-container\"><div class=\"sk-label sk-toggleable\"><input class=\"sk-toggleable__control sk-hidden--visually\" id=\"sk-estimator-id-3\" type=\"checkbox\" ><label for=\"sk-estimator-id-3\" class=\"sk-toggleable__label sk-toggleable__label-arrow\">Scaling: DataScaling</label><div class=\"sk-toggleable__content\"><pre>DataScaling(scaler=StandardScaler(),\n",
       "            scaling_features=[&#x27;SLogP&#x27;, &#x27;SMR&#x27;, &#x27;naRing&#x27;, &#x27;nHBAcc&#x27;, &#x27;nHBDon&#x27;,\n",
       "                              &#x27;nRot&#x27;, &#x27;MW&#x27;, &#x27;TopoPSA&#x27;, &#x27;QED&#x27;])</pre></div></div></div><div class=\"sk-parallel\"><div class=\"sk-parallel-item\"><div class=\"sk-item\"><div class=\"sk-label-container\"><div class=\"sk-label sk-toggleable\"><input class=\"sk-toggleable__control sk-hidden--visually\" id=\"sk-estimator-id-4\" type=\"checkbox\" ><label for=\"sk-estimator-id-4\" class=\"sk-toggleable__label sk-toggleable__label-arrow\">scaler: StandardScaler</label><div class=\"sk-toggleable__content\"><pre>StandardScaler()</pre></div></div></div><div class=\"sk-serial\"><div class=\"sk-item\"><div class=\"sk-estimator sk-toggleable\"><input class=\"sk-toggleable__control sk-hidden--visually\" id=\"sk-estimator-id-5\" type=\"checkbox\" ><label for=\"sk-estimator-id-5\" class=\"sk-toggleable__label sk-toggleable__label-arrow\">StandardScaler</label><div class=\"sk-toggleable__content\"><pre>StandardScaler()</pre></div></div></div></div></div></div></div></div></div></div></div></div>"
      ],
      "text/plain": [
       "Pipeline(steps=[('Molecular features',\n",
       "                 TurnSmilesIntoFeatures(calculate_fps=False,\n",
       "                                        chosen_descriptors=[<module 'mordred.SLogP' from '/home/rafalb/miniconda3/envs/rorgammaqsar/lib/python3.8/site-packages/mordred/SLogP.py'>,\n",
       "                                                            mordred.RingCount.RingCount(None, False, False, True, None),\n",
       "                                                            <class 'mordred.HydrogenBond.HBondAcceptor'>,\n",
       "                                                            <class 'mordred.HydrogenBond.HBondD...\n",
       "                                                            mordred.Weight.Weight(True, False),\n",
       "                                                            mordred.TopoPSA.TopoPSA(False),\n",
       "                                                            <module 'mordred.Lipinski' from '/home/rafalb/miniconda3/envs/rorgammaqsar/lib/python3.8/site-packages/mordred/Lipinski.py'>],\n",
       "                                        meta_descriptors=['QED'],\n",
       "                                        opt_3d=None)),\n",
       "                ('Scaling',\n",
       "                 DataScaling(scaler=StandardScaler(),\n",
       "                             scaling_features=['SLogP', 'SMR', 'naRing',\n",
       "                                               'nHBAcc', 'nHBDon', 'nRot', 'MW',\n",
       "                                               'TopoPSA', 'QED']))])"
      ]
     },
     "execution_count": 34,
     "metadata": {},
     "output_type": "execute_result"
    }
   ],
   "source": [
    "model_wrapper.Pipeline"
   ]
  },
  {
   "cell_type": "markdown",
   "metadata": {},
   "source": [
    "# QED, Morgan 1024 -> PCA/128 classification"
   ]
  },
  {
   "cell_type": "code",
   "execution_count": 45,
   "metadata": {},
   "outputs": [
    {
     "name": "stderr",
     "output_type": "stream",
     "text": [
      "2022-07-31 10:58:26,025 - logger - INFO - PCA constructor...\n"
     ]
    }
   ],
   "source": [
    "TRAINING_CONFIGURATION_FILE = \"QED_FP_PCA128_training_gyrase_classification.json\"\n",
    "with open(PIPELINES_DIR/TRAINING_CONFIGURATION_FILE, \"r\") as f:\n",
    "    training_conf = json.load(f)\n",
    "configuration_train = training_conf[\"training_aux_data\"]\n",
    "\n",
    "MODEL_FILE = training_conf[\"model_storage\"][\"resulting_model\"]\n",
    "\n",
    "prediction_methodology = training_conf[\"prediction_methodology\"]\n",
    "prediction_type=training_conf[\"prediction_type\"]\n",
    "\n",
    "model_wrapper = mw.model_wrapper.M_XGBoost(prediction_type=prediction_type, pipeline_configuration=None)\n",
    "model_wrapper.Load(MODELS_DIR/MODEL_FILE)"
   ]
  },
  {
   "cell_type": "code",
   "execution_count": 46,
   "metadata": {},
   "outputs": [
    {
     "name": "stderr",
     "output_type": "stream",
     "text": [
      "2022-07-31 10:58:28,041 - logger - INFO - CreateFPS fit...\n",
      "2022-07-31 10:58:28,044 - logger - INFO - CreateFPS transform...\n",
      "100%|██████████| 318/318 [00:00<00:00, 342.70it/s]\n",
      "2022-07-31 10:58:29,732 - logger - INFO - Scaler fit...\n",
      "2022-07-31 10:58:29,936 - logger - INFO - CreateFPS fit...\n",
      "2022-07-31 10:58:29,938 - logger - INFO - CreateFPS transform...\n",
      "100%|██████████| 36/36 [00:00<00:00, 289.12it/s]\n",
      "2022-07-31 10:58:30,210 - logger - INFO - PCA transform...\n",
      "2022-07-31 10:58:30,323 - logger - INFO - Precision score on hold-out/external: 0.8064516129032258\n",
      "2022-07-31 10:58:30,326 - logger - INFO - Recall score on hold-out/external: 1.0\n",
      "2022-07-31 10:58:30,329 - logger - INFO - ROCAUC score on hold-out/external: 0.7272727272727273\n",
      "2022-07-31 10:58:30,331 - logger - INFO - Average precision score on hold-out/external: 0.8064516129032258\n",
      "2022-07-31 10:58:30,333 - logger - INFO - Accuracy precision score on hold-out/external: 0.8333333333333334\n"
     ]
    },
    {
     "data": {
      "image/png": "[encoded data removed]",
      "text/plain": [
       "<Figure size 432x288 with 2 Axes>"
      ]
     },
     "metadata": {
      "needs_background": "light"
     },
     "output_type": "display_data"
    }
   ],
   "source": [
    "smiles_codes_val = model_wrapper.Data[\"smiles_codes_val\"]\n",
    "smiles_codes_train = model_wrapper.Data[\"smiles_codes_train\"]\n",
    "model_wrapper.Pipeline.fit(X=smiles_codes_train, y=None)\n",
    "X_val = create_molecular_features(pipeline=model_wrapper.Pipeline, smiles_codes=smiles_codes_val)\n",
    "X_val = process_molecular_features(pipeline=model_wrapper.Pipeline, X=X_val)\n",
    "y_train_val_pred = model_wrapper.Predict(X_val)\n",
    "y_train_val = model_wrapper.Data[\"targets_val\"]\n",
    "ConfusionMatrixDisplay.from_predictions(y_train_val, y_train_val_pred > configuration_train[\"threshold\"])\n",
    "l.info(\"Precision score on hold-out/external: %s\", precision_score(y_train_val, y_train_val_pred > configuration_train[\"threshold\"]))\n",
    "l.info(\"Recall score on hold-out/external: %s\", recall_score(y_train_val, y_train_val_pred > configuration_train[\"threshold\"]))\n",
    "l.info(\"ROCAUC score on hold-out/external: %s\", roc_auc_score(y_train_val, y_train_val_pred > configuration_train[\"threshold\"]))\n",
    "l.info(\"Average precision score on hold-out/external: %s\", average_precision_score(y_train_val, y_train_val_pred > configuration_train[\"threshold\"]))\n",
    "l.info(\"Accuracy precision score on hold-out/external: %s\", accuracy_score(y_train_val, y_train_val_pred > configuration_train[\"threshold\"]))"
   ]
  },
  {
   "cell_type": "code",
   "execution_count": 48,
   "metadata": {},
   "outputs": [
    {
     "name": "stderr",
     "output_type": "stream",
     "text": [
      "2022-07-31 11:00:50,200 - logger - INFO - CreateFPS fit...\n",
      "2022-07-31 11:00:50,202 - logger - INFO - CreateFPS transform...\n",
      "100%|██████████| 354/354 [00:01<00:00, 341.16it/s]\n",
      "2022-07-31 11:00:52,082 - logger - INFO - Scaler fit...\n",
      "2022-07-31 11:00:52,215 - logger - INFO - CreateFPS fit...\n",
      "2022-07-31 11:00:52,216 - logger - INFO - CreateFPS transform...\n",
      "100%|██████████| 354/354 [00:01<00:00, 320.88it/s]\n",
      "2022-07-31 11:00:54,250 - logger - INFO - PCA transform...\n"
     ]
    }
   ],
   "source": [
    "smiles_codes_all = pd.concat([model_wrapper.Data[\"smiles_codes_train\"], model_wrapper.Data[\"smiles_codes_val\"]])\n",
    "model_wrapper.Pipeline.fit(X=smiles_codes_all, y=None)\n",
    "X_all = create_molecular_features(pipeline=model_wrapper.Pipeline, smiles_codes=smiles_codes_all)\n",
    "X_all = process_molecular_features(pipeline=model_wrapper.Pipeline, X=X_all)\n",
    "y_all =  pd.concat([model_wrapper.Data[\"targets_train\"], model_wrapper.Data[\"targets_val\"]])\n"
   ]
  },
  {
   "cell_type": "code",
   "execution_count": 49,
   "metadata": {},
   "outputs": [
    {
     "data": {
      "text/html": [
       "<div>\n",
       "<style scoped>\n",
       "    .dataframe tbody tr th:only-of-type {\n",
       "        vertical-align: middle;\n",
       "    }\n",
       "\n",
       "    .dataframe tbody tr th {\n",
       "        vertical-align: top;\n",
       "    }\n",
       "\n",
       "    .dataframe thead th {\n",
       "        text-align: right;\n",
       "    }\n",
       "</style>\n",
       "<table border=\"1\" class=\"dataframe\">\n",
       "  <thead>\n",
       "    <tr style=\"text-align: right;\">\n",
       "      <th></th>\n",
       "      <th>SLogP</th>\n",
       "      <th>SMR</th>\n",
       "      <th>naRing</th>\n",
       "      <th>nHBAcc</th>\n",
       "      <th>nHBDon</th>\n",
       "      <th>nRot</th>\n",
       "      <th>MW</th>\n",
       "      <th>TopoPSA</th>\n",
       "      <th>Lipinski</th>\n",
       "      <th>GhoseFilter</th>\n",
       "      <th>...</th>\n",
       "      <th>pca_118</th>\n",
       "      <th>pca_119</th>\n",
       "      <th>pca_120</th>\n",
       "      <th>pca_121</th>\n",
       "      <th>pca_122</th>\n",
       "      <th>pca_123</th>\n",
       "      <th>pca_124</th>\n",
       "      <th>pca_125</th>\n",
       "      <th>pca_126</th>\n",
       "      <th>pca_127</th>\n",
       "    </tr>\n",
       "    <tr>\n",
       "      <th>db_id</th>\n",
       "      <th></th>\n",
       "      <th></th>\n",
       "      <th></th>\n",
       "      <th></th>\n",
       "      <th></th>\n",
       "      <th></th>\n",
       "      <th></th>\n",
       "      <th></th>\n",
       "      <th></th>\n",
       "      <th></th>\n",
       "      <th></th>\n",
       "      <th></th>\n",
       "      <th></th>\n",
       "      <th></th>\n",
       "      <th></th>\n",
       "      <th></th>\n",
       "      <th></th>\n",
       "      <th></th>\n",
       "      <th></th>\n",
       "      <th></th>\n",
       "      <th></th>\n",
       "    </tr>\n",
       "  </thead>\n",
       "  <tbody>\n",
       "    <tr>\n",
       "      <th>CHEMBL3085863</th>\n",
       "      <td>4.88450</td>\n",
       "      <td>121.9812</td>\n",
       "      <td>3</td>\n",
       "      <td>6</td>\n",
       "      <td>1</td>\n",
       "      <td>7</td>\n",
       "      <td>439.172976</td>\n",
       "      <td>82.70</td>\n",
       "      <td>1</td>\n",
       "      <td>1</td>\n",
       "      <td>...</td>\n",
       "      <td>0.017109</td>\n",
       "      <td>0.065504</td>\n",
       "      <td>0.071260</td>\n",
       "      <td>0.068591</td>\n",
       "      <td>-0.055914</td>\n",
       "      <td>0.008985</td>\n",
       "      <td>0.071797</td>\n",
       "      <td>0.008718</td>\n",
       "      <td>0.061188</td>\n",
       "      <td>-0.028833</td>\n",
       "    </tr>\n",
       "    <tr>\n",
       "      <th>CHEMBL3739454</th>\n",
       "      <td>2.13110</td>\n",
       "      <td>117.3684</td>\n",
       "      <td>3</td>\n",
       "      <td>8</td>\n",
       "      <td>0</td>\n",
       "      <td>7</td>\n",
       "      <td>423.190654</td>\n",
       "      <td>93.74</td>\n",
       "      <td>1</td>\n",
       "      <td>1</td>\n",
       "      <td>...</td>\n",
       "      <td>-0.061998</td>\n",
       "      <td>-0.028477</td>\n",
       "      <td>-0.098146</td>\n",
       "      <td>-0.090671</td>\n",
       "      <td>-0.047290</td>\n",
       "      <td>-0.047248</td>\n",
       "      <td>-0.135538</td>\n",
       "      <td>-0.084020</td>\n",
       "      <td>0.055551</td>\n",
       "      <td>0.094443</td>\n",
       "    </tr>\n",
       "    <tr>\n",
       "      <th>CHEMBL3403243</th>\n",
       "      <td>4.47282</td>\n",
       "      <td>110.2694</td>\n",
       "      <td>3</td>\n",
       "      <td>3</td>\n",
       "      <td>2</td>\n",
       "      <td>3</td>\n",
       "      <td>378.185590</td>\n",
       "      <td>57.26</td>\n",
       "      <td>1</td>\n",
       "      <td>1</td>\n",
       "      <td>...</td>\n",
       "      <td>-0.019294</td>\n",
       "      <td>0.001279</td>\n",
       "      <td>0.011432</td>\n",
       "      <td>0.019206</td>\n",
       "      <td>-0.011284</td>\n",
       "      <td>0.066282</td>\n",
       "      <td>-0.037750</td>\n",
       "      <td>0.001271</td>\n",
       "      <td>-0.120381</td>\n",
       "      <td>0.026796</td>\n",
       "    </tr>\n",
       "    <tr>\n",
       "      <th>CHEMBL3355808</th>\n",
       "      <td>3.49300</td>\n",
       "      <td>109.2857</td>\n",
       "      <td>3</td>\n",
       "      <td>4</td>\n",
       "      <td>1</td>\n",
       "      <td>3</td>\n",
       "      <td>368.112939</td>\n",
       "      <td>91.73</td>\n",
       "      <td>1</td>\n",
       "      <td>1</td>\n",
       "      <td>...</td>\n",
       "      <td>-0.028928</td>\n",
       "      <td>-0.076947</td>\n",
       "      <td>0.065044</td>\n",
       "      <td>-0.055330</td>\n",
       "      <td>-0.101972</td>\n",
       "      <td>0.082557</td>\n",
       "      <td>-0.042679</td>\n",
       "      <td>-0.172754</td>\n",
       "      <td>-0.028284</td>\n",
       "      <td>-0.206476</td>\n",
       "    </tr>\n",
       "    <tr>\n",
       "      <th>CHEMBL3628455</th>\n",
       "      <td>3.77770</td>\n",
       "      <td>115.7980</td>\n",
       "      <td>3</td>\n",
       "      <td>6</td>\n",
       "      <td>2</td>\n",
       "      <td>8</td>\n",
       "      <td>407.184506</td>\n",
       "      <td>83.92</td>\n",
       "      <td>1</td>\n",
       "      <td>1</td>\n",
       "      <td>...</td>\n",
       "      <td>0.001124</td>\n",
       "      <td>-0.051263</td>\n",
       "      <td>-0.018210</td>\n",
       "      <td>-0.005018</td>\n",
       "      <td>0.060336</td>\n",
       "      <td>0.017359</td>\n",
       "      <td>0.063292</td>\n",
       "      <td>0.022369</td>\n",
       "      <td>0.013483</td>\n",
       "      <td>0.056621</td>\n",
       "    </tr>\n",
       "  </tbody>\n",
       "</table>\n",
       "<p>5 rows × 139 columns</p>\n",
       "</div>"
      ],
      "text/plain": [
       "                 SLogP       SMR  naRing  nHBAcc  nHBDon  nRot          MW  \\\n",
       "db_id                                                                        \n",
       "CHEMBL3085863  4.88450  121.9812       3       6       1     7  439.172976   \n",
       "CHEMBL3739454  2.13110  117.3684       3       8       0     7  423.190654   \n",
       "CHEMBL3403243  4.47282  110.2694       3       3       2     3  378.185590   \n",
       "CHEMBL3355808  3.49300  109.2857       3       4       1     3  368.112939   \n",
       "CHEMBL3628455  3.77770  115.7980       3       6       2     8  407.184506   \n",
       "\n",
       "               TopoPSA  Lipinski  GhoseFilter  ...   pca_118   pca_119  \\\n",
       "db_id                                          ...                       \n",
       "CHEMBL3085863    82.70         1            1  ...  0.017109  0.065504   \n",
       "CHEMBL3739454    93.74         1            1  ... -0.061998 -0.028477   \n",
       "CHEMBL3403243    57.26         1            1  ... -0.019294  0.001279   \n",
       "CHEMBL3355808    91.73         1            1  ... -0.028928 -0.076947   \n",
       "CHEMBL3628455    83.92         1            1  ...  0.001124 -0.051263   \n",
       "\n",
       "                pca_120   pca_121   pca_122   pca_123   pca_124   pca_125  \\\n",
       "db_id                                                                       \n",
       "CHEMBL3085863  0.071260  0.068591 -0.055914  0.008985  0.071797  0.008718   \n",
       "CHEMBL3739454 -0.098146 -0.090671 -0.047290 -0.047248 -0.135538 -0.084020   \n",
       "CHEMBL3403243  0.011432  0.019206 -0.011284  0.066282 -0.037750  0.001271   \n",
       "CHEMBL3355808  0.065044 -0.055330 -0.101972  0.082557 -0.042679 -0.172754   \n",
       "CHEMBL3628455 -0.018210 -0.005018  0.060336  0.017359  0.063292  0.022369   \n",
       "\n",
       "                pca_126   pca_127  \n",
       "db_id                              \n",
       "CHEMBL3085863  0.061188 -0.028833  \n",
       "CHEMBL3739454  0.055551  0.094443  \n",
       "CHEMBL3403243 -0.120381  0.026796  \n",
       "CHEMBL3355808 -0.028284 -0.206476  \n",
       "CHEMBL3628455  0.013483  0.056621  \n",
       "\n",
       "[5 rows x 139 columns]"
      ]
     },
     "execution_count": 49,
     "metadata": {},
     "output_type": "execute_result"
    }
   ],
   "source": [
    "X_all.head()"
   ]
  },
  {
   "cell_type": "code",
   "execution_count": 83,
   "metadata": {},
   "outputs": [
    {
     "data": {
      "text/plain": [
       "<AxesSubplot:>"
      ]
     },
     "execution_count": 83,
     "metadata": {},
     "output_type": "execute_result"
    },
    {
     "data": {
      "image/png": "[encoded data removed]",
      "text/plain": [
       "<Figure size 432x288 with 1 Axes>"
      ]
     },
     "metadata": {
      "needs_background": "light"
     },
     "output_type": "display_data"
    }
   ],
   "source": [
    "dbs = DBSCAN()\n",
    "cl = pd.Series(dbs.fit_predict(X_all[model_wrapper.Pipeline[\"PCA\"].PCA_feature_names[:24]]))\n",
    "cl.hist()"
   ]
  },
  {
   "cell_type": "code",
   "execution_count": 90,
   "metadata": {},
   "outputs": [
    {
     "name": "stderr",
     "output_type": "stream",
     "text": [
      "/home/rafalb/miniconda3/envs/rorgammaqsar/lib/python3.8/site-packages/sklearn/manifold/_t_sne.py:795: FutureWarning: The default initialization in TSNE will change from 'random' to 'pca' in 1.2.\n",
      "  warnings.warn(\n",
      "/home/rafalb/miniconda3/envs/rorgammaqsar/lib/python3.8/site-packages/sklearn/manifold/_t_sne.py:805: FutureWarning: The default learning rate in TSNE will change from 200.0 to 'auto' in 1.2.\n",
      "  warnings.warn(\n"
     ]
    },
    {
     "data": {
      "text/html": [
       "<div>\n",
       "<style scoped>\n",
       "    .dataframe tbody tr th:only-of-type {\n",
       "        vertical-align: middle;\n",
       "    }\n",
       "\n",
       "    .dataframe tbody tr th {\n",
       "        vertical-align: top;\n",
       "    }\n",
       "\n",
       "    .dataframe thead th {\n",
       "        text-align: right;\n",
       "    }\n",
       "</style>\n",
       "<table border=\"1\" class=\"dataframe\">\n",
       "  <thead>\n",
       "    <tr style=\"text-align: right;\">\n",
       "      <th></th>\n",
       "      <th>tsne_1</th>\n",
       "      <th>tsne_2</th>\n",
       "      <th>active</th>\n",
       "    </tr>\n",
       "    <tr>\n",
       "      <th>db_id</th>\n",
       "      <th></th>\n",
       "      <th></th>\n",
       "      <th></th>\n",
       "    </tr>\n",
       "  </thead>\n",
       "  <tbody>\n",
       "    <tr>\n",
       "      <th>CHEMBL3085863</th>\n",
       "      <td>8.347580</td>\n",
       "      <td>-4.116239</td>\n",
       "      <td>False</td>\n",
       "    </tr>\n",
       "    <tr>\n",
       "      <th>CHEMBL3739454</th>\n",
       "      <td>38.352062</td>\n",
       "      <td>-13.369669</td>\n",
       "      <td>True</td>\n",
       "    </tr>\n",
       "    <tr>\n",
       "      <th>CHEMBL3403243</th>\n",
       "      <td>-4.809299</td>\n",
       "      <td>40.477085</td>\n",
       "      <td>True</td>\n",
       "    </tr>\n",
       "    <tr>\n",
       "      <th>CHEMBL3355808</th>\n",
       "      <td>3.743963</td>\n",
       "      <td>-21.114794</td>\n",
       "      <td>False</td>\n",
       "    </tr>\n",
       "    <tr>\n",
       "      <th>CHEMBL3628455</th>\n",
       "      <td>-45.190208</td>\n",
       "      <td>-8.553498</td>\n",
       "      <td>False</td>\n",
       "    </tr>\n",
       "  </tbody>\n",
       "</table>\n",
       "</div>"
      ],
      "text/plain": [
       "                  tsne_1     tsne_2  active\n",
       "db_id                                      \n",
       "CHEMBL3085863   8.347580  -4.116239   False\n",
       "CHEMBL3739454  38.352062 -13.369669    True\n",
       "CHEMBL3403243  -4.809299  40.477085    True\n",
       "CHEMBL3355808   3.743963 -21.114794   False\n",
       "CHEMBL3628455 -45.190208  -8.553498   False"
      ]
     },
     "execution_count": 90,
     "metadata": {},
     "output_type": "execute_result"
    }
   ],
   "source": [
    "tsne = TSNE(n_components=2, perplexity=15)\n",
    "tsne_embedding = tsne.fit_transform(X_all[model_wrapper.Pipeline[\"PCA\"].PCA_feature_names[:24]])\n",
    "tsne_embedding = pd.DataFrame(tsne_embedding, index=X_all.index)\n",
    "tsne_embedding = pd.concat([tsne_embedding, y_all], axis=1)\n",
    "tsne_embedding.columns = [\"tsne_1\", \"tsne_2\", \"active\"]\n",
    "tsne_embedding.head()"
   ]
  },
  {
   "cell_type": "code",
   "execution_count": 91,
   "metadata": {},
   "outputs": [
    {
     "data": {
      "image/png": "[encoded data removed]",
      "text/plain": [
       "<Figure size 432x288 with 1 Axes>"
      ]
     },
     "metadata": {
      "needs_background": "light"
     },
     "output_type": "display_data"
    }
   ],
   "source": [
    "ax = sns.scatterplot(data=tsne_embedding.query(\"active == 1\"), x=\"tsne_1\", y=\"tsne_2\", color='red', alpha=0.3)\n",
    "ax = sns.scatterplot(data=tsne_embedding.query(\"active == 0\"), x=\"tsne_1\", y=\"tsne_2\", color='darkblue', alpha=0.3)"
   ]
  },
  {
   "cell_type": "code",
   "execution_count": 89,
   "metadata": {},
   "outputs": [
    {
     "data": {
      "image/png": "[encoded data removed]",
      "text/plain": [
       "<Figure size 432x288 with 1 Axes>"
      ]
     },
     "metadata": {
      "needs_background": "light"
     },
     "output_type": "display_data"
    }
   ],
   "source": [
    "ax = sns.scatterplot(data=tsne_embedding.query(\"active == 1\"), x=\"tsne_1\", y=\"tsne_2\", color='red', alpha=0.3)\n",
    "ax = sns.scatterplot(data=tsne_embedding.query(\"active == 0\"), x=\"tsne_1\", y=\"tsne_2\", color='darkblue', alpha=0.3)"
   ]
  },
  {
   "cell_type": "code",
   "execution_count": null,
   "metadata": {},
   "outputs": [],
   "source": []
  }
 ],
 "metadata": {
  "kernelspec": {
   "display_name": "Python 3.8.13 ('rorgammaqsar')",
   "language": "python",
   "name": "python3"
  },
  "language_info": {
   "codemirror_mode": {
    "name": "ipython",
    "version": 3
   },
   "file_extension": ".py",
   "mimetype": "text/x-python",
   "name": "python",
   "nbconvert_exporter": "python",
   "pygments_lexer": "ipython3",
   "version": "3.8.13"
  },
  "orig_nbformat": 4,
  "vscode": {
   "interpreter": {
    "hash": "acfffd18c244b8f5a510cc01b749d984390c6dc8073ed7353ae0aaf37db191b1"
   }
  }
 },
 "nbformat": 4,
 "nbformat_minor": 2
}
